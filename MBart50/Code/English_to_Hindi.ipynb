{
  "cells": [
    {
      "cell_type": "code",
      "source": [
        "! pip install transformers -U -q\n",
        "! pip install sentencepiece\n",
        "! pip freeze | grep transformers\n",
        "! pip install torch -q"
      ],
      "metadata": {
        "id": "z3UZ1Qu8TmhP",
        "outputId": "a999466f-0c98-48cd-ddc1-bf1f60ecfed2",
        "colab": {
          "base_uri": "https://localhost:8080/"
        }
      },
      "execution_count": 4,
      "outputs": [
        {
          "output_type": "stream",
          "name": "stdout",
          "text": [
            "Looking in indexes: https://pypi.org/simple, https://us-python.pkg.dev/colab-wheels/public/simple/\n",
            "Requirement already satisfied: sentencepiece in /usr/local/lib/python3.7/dist-packages (0.1.96)\n",
            "transformers==4.19.4\n"
          ]
        }
      ]
    },
    {
      "cell_type": "code",
      "execution_count": 5,
      "metadata": {
        "id": "U-_ffTKTTi3C"
      },
      "outputs": [],
      "source": [
        "from transformers import MBartForConditionalGeneration, MBart50TokenizerFast"
      ]
    },
    {
      "cell_type": "code",
      "execution_count": 6,
      "metadata": {
        "id": "UCfdJKLbTi3M"
      },
      "outputs": [],
      "source": [
        "model = MBartForConditionalGeneration.from_pretrained(\"facebook/mbart-large-50-one-to-many-mmt\")\n",
        "tokenizer = MBart50TokenizerFast.from_pretrained(\"facebook/mbart-large-50-one-to-many-mmt\", src_lang=\"en_XX\")"
      ]
    },
    {
      "cell_type": "code",
      "execution_count": 7,
      "metadata": {
        "id": "FVzkquCwTi3P"
      },
      "outputs": [],
      "source": [
        "def translate(sentence):\n",
        "  model_inputs = tokenizer(sentence, return_tensors=\"pt\")\n",
        "  generated_tokens = model.generate( **model_inputs, forced_bos_token_id=tokenizer.lang_code_to_id[\"hi_IN\"])\n",
        "  translation = tokenizer.batch_decode(generated_tokens, skip_special_tokens=True)\n",
        "  return translation[0]"
      ]
    },
    {
      "cell_type": "code",
      "source": [
        "translate('RCB will win the IPL next')"
      ],
      "metadata": {
        "id": "ZlTJEW7BVD7M",
        "outputId": "f3e2d9cf-8965-4815-fab4-9b9b80c55ab4",
        "colab": {
          "base_uri": "https://localhost:8080/",
          "height": 36
        }
      },
      "execution_count": 8,
      "outputs": [
        {
          "output_type": "execute_result",
          "data": {
            "text/plain": [
              "'आरसीबी अगली बार आईपीएल जीतेगा।'"
            ],
            "application/vnd.google.colaboratory.intrinsic+json": {
              "type": "string"
            }
          },
          "metadata": {},
          "execution_count": 8
        }
      ]
    }
  ],
  "metadata": {
    "kernelspec": {
      "display_name": "Python 3.9.6 64-bit",
      "language": "python",
      "name": "python3"
    },
    "language_info": {
      "codemirror_mode": {
        "name": "ipython",
        "version": 3
      },
      "file_extension": ".py",
      "mimetype": "text/x-python",
      "name": "python",
      "nbconvert_exporter": "python",
      "pygments_lexer": "ipython3",
      "version": "3.9.6"
    },
    "orig_nbformat": 4,
    "vscode": {
      "interpreter": {
        "hash": "15b0f7c0327bc3a4a4e9cf399fe7d734dcb10d0bce3f7ceee96ebdab990e082a"
      }
    },
    "colab": {
      "name": "English_to_Hindi.ipynb",
      "provenance": []
    }
  },
  "nbformat": 4,
  "nbformat_minor": 0
}